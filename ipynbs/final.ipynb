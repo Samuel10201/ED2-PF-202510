{
 "cells": [
  {
   "cell_type": "code",
   "execution_count": 24,
   "id": "8a3d752f-2d9c-463f-802e-9645054f3ec5",
   "metadata": {},
   "outputs": [],
   "source": [
    "from mysql.connector import connect, errorcode, Error\n",
    "from os import environ\n",
    "import pandas as pd"
   ]
  },
  {
   "cell_type": "code",
   "execution_count": 85,
   "id": "80cd5db9-0ccd-4b58-9b43-bb98a1a43cd6",
   "metadata": {},
   "outputs": [],
   "source": [
    "config = {\n",
    "    \"user\" : environ['DATABASE_USERNAME'],\n",
    "    \"password\" : environ['DATABASE_PASSWORD'],\n",
    "    \"host\" : environ['DATABASE_HOST'],\n",
    "    \"database\" : environ['DATABASE_NAME'],\n",
    "    \"charset\": 'utf8'\n",
    "}"
   ]
  },
  {
   "cell_type": "code",
   "execution_count": 66,
   "id": "e0128368-3978-4e77-aee9-7685e58d137c",
   "metadata": {},
   "outputs": [],
   "source": [
    "def get_connection():\n",
    "    try:\n",
    "        return connect(**config)\n",
    "    except Error as err:\n",
    "        if err.errno == errorcode.ER_ACCESS_DENIED_ERROR:\n",
    "            print(\"Something is wrong with your user name or password\")\n",
    "        elif err.errno == errorcode.ER_BAD_DB_ERROR:\n",
    "            print(\"Database does not exist\")\n",
    "        else:\n",
    "            print(err)\n",
    "        return None"
   ]
  },
  {
   "cell_type": "code",
   "execution_count": 67,
   "id": "5a2a96b8-8f4e-4cb0-ac1e-596b7fb84965",
   "metadata": {},
   "outputs": [],
   "source": [
    "def get_data(connection:connect, query:str):\n",
    "    my_cursor = connection.cursor()\n",
    "    my_cursor.execute(query)\n",
    "    data = []\n",
    "    for row in my_cursor:\n",
    "        data.append(row)\n",
    "    my_cursor.close()\n",
    "    return data"
   ]
  },
  {
   "cell_type": "code",
   "execution_count": 116,
   "id": "e02ecf78-5396-4a7f-a5d4-5b0fed6abe5c",
   "metadata": {},
   "outputs": [],
   "source": [
    "cnx = get_connection()"
   ]
  },
  {
   "cell_type": "code",
   "execution_count": 117,
   "id": "3de11885-e2bd-4dad-906f-9efbae73b290",
   "metadata": {},
   "outputs": [],
   "source": [
    "data =  get_data(cnx, \"SELECT * FROM UN.TEST\")"
   ]
  },
  {
   "cell_type": "code",
   "execution_count": 118,
   "id": "3c2dfa69-21d2-4595-a291-81a5b205bf67",
   "metadata": {},
   "outputs": [],
   "source": [
    "df = pd.DataFrame(data, columns=[\"ID\", \"TEXT_NOTE\", \"SERIAL_CREDENTIAL\", \"PRICE\", \"GRADE\", \"STATUS\", \"CURRENT_DATE_VALUE\"])"
   ]
  },
  {
   "cell_type": "code",
   "execution_count": 121,
   "id": "0705d776-01de-405d-a0d6-dfaeeadb6183",
   "metadata": {},
   "outputs": [],
   "source": [
    "df.to_parquet('mydata.parquet')"
   ]
  },
  {
   "cell_type": "code",
   "execution_count": 123,
   "id": "071b40e0-b149-427c-873b-5115b8061030",
   "metadata": {},
   "outputs": [],
   "source": [
    "cnx.close()"
   ]
  },
  {
   "cell_type": "code",
   "execution_count": 122,
   "id": "ef41eb4a-253a-4114-a0b6-ab58f4bf5781",
   "metadata": {},
   "outputs": [
    {
     "data": {
      "text/html": [
       "<div>\n",
       "<style scoped>\n",
       "    .dataframe tbody tr th:only-of-type {\n",
       "        vertical-align: middle;\n",
       "    }\n",
       "\n",
       "    .dataframe tbody tr th {\n",
       "        vertical-align: top;\n",
       "    }\n",
       "\n",
       "    .dataframe thead th {\n",
       "        text-align: right;\n",
       "    }\n",
       "</style>\n",
       "<table border=\"1\" class=\"dataframe\">\n",
       "  <thead>\n",
       "    <tr style=\"text-align: right;\">\n",
       "      <th></th>\n",
       "      <th>ID</th>\n",
       "      <th>TEXT_NOTE</th>\n",
       "      <th>SERIAL_CREDENTIAL</th>\n",
       "      <th>PRICE</th>\n",
       "      <th>GRADE</th>\n",
       "      <th>STATUS</th>\n",
       "      <th>CURRENT_DATE_VALUE</th>\n",
       "    </tr>\n",
       "  </thead>\n",
       "  <tbody>\n",
       "    <tr>\n",
       "      <th>0</th>\n",
       "      <td>1</td>\n",
       "      <td>KJLKSDJFLKSD JFJKLSDJFLSDJF LKSDJF LKSDJ FLKSD...</td>\n",
       "      <td>27c4f31ae74bb05deb2a26b9183315c0608b516e610d59...</td>\n",
       "      <td>2.424</td>\n",
       "      <td>None</td>\n",
       "      <td>1</td>\n",
       "      <td>2025-05-12 21:25:26</td>\n",
       "    </tr>\n",
       "  </tbody>\n",
       "</table>\n",
       "</div>"
      ],
      "text/plain": [
       "   ID                                          TEXT_NOTE  \\\n",
       "0   1  KJLKSDJFLKSD JFJKLSDJFLSDJF LKSDJF LKSDJ FLKSD...   \n",
       "\n",
       "                                   SERIAL_CREDENTIAL  PRICE GRADE  STATUS  \\\n",
       "0  27c4f31ae74bb05deb2a26b9183315c0608b516e610d59...  2.424  None       1   \n",
       "\n",
       "   CURRENT_DATE_VALUE  \n",
       "0 2025-05-12 21:25:26  "
      ]
     },
     "execution_count": 122,
     "metadata": {},
     "output_type": "execute_result"
    }
   ],
   "source": [
    "pd.read_parquet('mydata.parquet')"
   ]
  },
  {
   "cell_type": "code",
   "execution_count": 124,
   "id": "303a8855-952f-4888-99b7-6070c74c0bad",
   "metadata": {},
   "outputs": [],
   "source": [
    "!pip freeze > requirements.txt"
   ]
  }
 ],
 "metadata": {
  "kernelspec": {
   "display_name": "Python 3 (ipykernel)",
   "language": "python",
   "name": "python3"
  },
  "language_info": {
   "codemirror_mode": {
    "name": "ipython",
    "version": 3
   },
   "file_extension": ".py",
   "mimetype": "text/x-python",
   "name": "python",
   "nbconvert_exporter": "python",
   "pygments_lexer": "ipython3",
   "version": "3.9.17"
  }
 },
 "nbformat": 4,
 "nbformat_minor": 5
}
