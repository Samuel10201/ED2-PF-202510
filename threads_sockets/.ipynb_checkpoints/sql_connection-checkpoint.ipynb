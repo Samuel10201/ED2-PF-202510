{
 "cells": [
  {
   "cell_type": "code",
   "execution_count": null,
   "id": "8bf4dc12",
   "metadata": {},
   "outputs": [
    {
     "data": {
      "text/plain": [
       "True"
      ]
     },
     "execution_count": 1,
     "metadata": {},
     "output_type": "execute_result"
    }
   ],
   "source": [
    "from mysql.connector import connect, errorcode, Error\n",
    "from os import environ\n",
    "import time\n",
    "import pandas as pd\n",
    "from dotenv import load_dotenv\n",
    "load_dotenv()"
   ]
  },
  {
   "cell_type": "code",
   "execution_count": null,
   "id": "60f571b9",
   "metadata": {},
   "outputs": [
    {
     "name": "stdout",
     "output_type": "stream",
     "text": [
      "{'user': 'ed2studentsG6', 'password': 'd8d0274ccb39fcded4a5fac1961580104770fa93620f4a699cccecae58e8efe5', 'host': 'lab-ed.c9q48as80ych.us-east-1.rds.amazonaws.com', 'database': 'UN', 'charset': 'utf8'}\n"
     ]
    }
   ],
   "source": [
    "config = {\n",
    "    \"user\": environ['DATABASE_USERNAME'],\n",
    "    \"password\": environ['DATABASE_PASSWORD'],\n",
    "    \"host\": environ['DATABASE_HOST'],\n",
    "    \"database\": environ['DATABASE_NAME'],\n",
    "    \"charset\": 'utf8'\n",
    "}\n",
    "export_times = {}"
   ]
  },
  {
   "cell_type": "code",
   "execution_count": 3,
   "id": "e372b250",
   "metadata": {},
   "outputs": [],
   "source": [
    "def get_connection():\n",
    "    try:\n",
    "        print(\"Connecting to the database...\\n config: \", config)\n",
    "        return connect(**config)\n",
    "    except Error as err:\n",
    "        if err.errno == errorcode.ER_ACCESS_DENIED_ERROR:\n",
    "            print(\"Something is wrong with your user name or password\")\n",
    "        elif err.errno == errorcode.ER_BAD_DB_ERROR:\n",
    "            print(\"Database does not exist\")\n",
    "        else:\n",
    "            print(err)\n",
    "        return None"
   ]
  },
  {
   "cell_type": "code",
   "execution_count": 4,
   "id": "2396b773",
   "metadata": {},
   "outputs": [],
   "source": [
    "def get_data(connection: connect, query: str):\n",
    "    my_cursor = connection.cursor()\n",
    "    my_cursor.execute(query)\n",
    "    data = my_cursor.fetchall()\n",
    "    my_cursor.close()\n",
    "    return data"
   ]
  },
  {
   "cell_type": "code",
   "execution_count": null,
   "id": "c0d55017",
   "metadata": {},
   "outputs": [],
   "source": [
    "\n",
    "cnx = get_connection()\n",
    "\n",
    "print(\"Connection established\")\n",
    "\n",
    "for i in range(1, 1000000):\n",
    "    data = get_data(cnx, f\"SELECT * FROM UN.VENTAS LIMIT {i}\")\n",
    "    df = pd.DataFrame(data, columns=['ID_VENTA', 'FECHA_VENTA', 'ID_CLIENTE', 'ID_EMPLEADO',\n",
    "              'ID_PRODUCTO', 'CANTIDAD', 'PRECIO_UNITARIO', 'DESCUENTO', 'FORMA_PAGO'])\n",
    "    start = time.time()\n",
    "    df.to_json(\"ventas.json\", orient=\"records\", lines=True)\n",
    "    export_times[\"JSON\"] = time.time() - start\n",
    "    \n",
    "    \n",
    "df = pd.DataFrame(data, columns=['ID_VENTA', 'FECHA_VENTA', 'ID_CLIENTE', 'ID_EMPLEADO',\n",
    "              'ID_PRODUCTO', 'CANTIDAD', 'PRECIO_UNITARIO', 'DESCUENTO', 'FORMA_PAGO'])\n",
    "    \n",
    "\n",
    "\n",
    "\n",
    "df = pd.DataFrame(data, columns=['ID_VENTA', 'FECHA_VENTA', 'ID_CLIENTE', 'ID_EMPLEADO',\n",
    "                  'ID_PRODUCTO', 'CANTIDAD', 'PRECIO_UNITARIO', 'DESCUENTO', 'FORMA_PAGO'])\n",
    "\n",
    "cnx.close()\n",
    "\n",
    "df\n",
    "\n"
   ]
  },
  {
   "cell_type": "code",
   "execution_count": null,
   "id": "11c41afa",
   "metadata": {},
   "outputs": [],
   "source": [
    "#Obtener datos en distintos formatos \n",
    "\n",
    "#Formato Json\n",
    "start = time.time()\n",
    "df.to_json(\"ventas.json\", orient=\"records\", lines=True)\n",
    "export_times[\"JSON\"] = time.time() - start\n",
    "\n",
    "#Formato CSV\n",
    "start = time.time()\n",
    "df.to_csv(\"ventas.csv\", index=False)\n",
    "export_times[\"CSV\"] = time.time() - start"
   ]
  },
  {
   "cell_type": "code",
   "execution_count": 10,
   "id": "81741be6",
   "metadata": {},
   "outputs": [
    {
     "name": "stdout",
     "output_type": "stream",
     "text": [
      "SELECT * FROM UN.VENTAS LIMIT 1\n"
     ]
    }
   ],
   "source": [
    "#Pruebas\n",
    "i = 1\n",
    "print(\"SELECT * FROM UN.VENTAS LIMIT \"+str(i))"
   ]
  }
 ],
 "metadata": {
  "kernelspec": {
   "display_name": "ed2",
   "language": "python",
   "name": "python3"
  },
  "language_info": {
   "codemirror_mode": {
    "name": "ipython",
    "version": 3
   },
   "file_extension": ".py",
   "mimetype": "text/x-python",
   "name": "python",
   "nbconvert_exporter": "python",
   "pygments_lexer": "ipython3",
   "version": "3.10.16"
  }
 },
 "nbformat": 4,
 "nbformat_minor": 5
}
